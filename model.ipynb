{
 "cells": [
  {
   "cell_type": "markdown",
   "source": [
    "# Build a neral network\r\n",
    "\r\n",
    "Neural network comprise of layers/modules that perform operations on data. the **torch.nn** namespace provides all the building blocks you need to build your own neural network. Every nodule in Pytorch subclasses the nn.Module. A neral network is a module itseft that consists of other modules(layers). This nested structure allows for building and managing complex architectures easily."
   ],
   "metadata": {}
  },
  {
   "cell_type": "code",
   "execution_count": 1,
   "source": [
    "import os \r\n",
    "import torch \r\n",
    "from torch import nn \r\n",
    "from torch.utils.data import DataLoader\r\n",
    "from torchvision import datasets, transforms\r\n"
   ],
   "outputs": [],
   "metadata": {}
  },
  {
   "cell_type": "markdown",
   "source": [
    "## Get a hardware device for training\r\n",
    "\r\n",
    "We want to be able to train our model on a hardware accelerator like the GPU, if it is avalable. "
   ],
   "metadata": {}
  },
  {
   "cell_type": "code",
   "execution_count": 2,
   "source": [
    "device = 'cuda' if torch.cuda.is_available() else 'cpu'\r\n",
    "print('Using {} device'.format(device))"
   ],
   "outputs": [
    {
     "output_type": "stream",
     "name": "stdout",
     "text": [
      "Using cuda device\n"
     ]
    }
   ],
   "metadata": {}
  },
  {
   "cell_type": "markdown",
   "source": [
    "## Define the class\r\n",
    "\r\n",
    "We define our neural network by subclassing **nn.Module**, and initialize the neural network layers **__init__**. Every **nn.Module** subclass implements the opreations on input data in the forward method."
   ],
   "metadata": {}
  },
  {
   "cell_type": "code",
   "execution_count": 3,
   "source": [
    "class NeuralNetwork(nn.Module):\r\n",
    "    def __init__(self):\r\n",
    "        super(NeuralNetwork, self).__init__()\r\n",
    "        self.flatten = nn.Flatten()\r\n",
    "        self.linear_relu_stack = nn.Sequential(\r\n",
    "            nn.Linear(28*28, 512),\r\n",
    "            nn.ReLU(),\r\n",
    "            nn.Linear(512, 512),\r\n",
    "            nn.ReLU(),\r\n",
    "            nn.Linear(512, 10),\r\n",
    "            nn.ReLU()\r\n",
    "        )\r\n",
    "    def forward(self, x):\r\n",
    "        x = self.flatten(x)\r\n",
    "        logits = self.linear_relu_stack(x)\r\n",
    "        return logits"
   ],
   "outputs": [],
   "metadata": {}
  },
  {
   "cell_type": "code",
   "execution_count": 4,
   "source": [
    "model = NeuralNetwork().to(device)"
   ],
   "outputs": [],
   "metadata": {}
  },
  {
   "cell_type": "code",
   "execution_count": 5,
   "source": [
    "print(model)"
   ],
   "outputs": [
    {
     "output_type": "stream",
     "name": "stdout",
     "text": [
      "NeuralNetwork(\n",
      "  (flatten): Flatten(start_dim=1, end_dim=-1)\n",
      "  (linear_relu_stack): Sequential(\n",
      "    (0): Linear(in_features=784, out_features=512, bias=True)\n",
      "    (1): ReLU()\n",
      "    (2): Linear(in_features=512, out_features=512, bias=True)\n",
      "    (3): ReLU()\n",
      "    (4): Linear(in_features=512, out_features=10, bias=True)\n",
      "    (5): ReLU()\n",
      "  )\n",
      ")\n"
     ]
    }
   ],
   "metadata": {}
  },
  {
   "cell_type": "markdown",
   "source": [
    "To use the model, we pass it the input data. This executes the model's forward, along with some background operations. Do not call **model.forward()** directly!"
   ],
   "metadata": {}
  },
  {
   "cell_type": "code",
   "execution_count": 7,
   "source": [
    "X = torch.rand(1,28,28, device=device)\r\n",
    "logits = model(X)\r\n",
    "pred_probab = nn.Softmax(dim=1)(logits)\r\n",
    "y_pred = pred_probab.argmax(1)\r\n",
    "print(f\"Predicted class: {y_pred}\")"
   ],
   "outputs": [
    {
     "output_type": "stream",
     "name": "stdout",
     "text": [
      "Predicted class: tensor([5], device='cuda:0')\n"
     ]
    }
   ],
   "metadata": {}
  },
  {
   "cell_type": "markdown",
   "source": [
    "## Model layers\r\n",
    "\r\n",
    "Let's break down the layers in the FashionMNIST model. to illustrate it, we will take a sample minibatch of 3 image of size 28x28 and see what happens to it as we pass it through the network."
   ],
   "metadata": {}
  },
  {
   "cell_type": "code",
   "execution_count": 11,
   "source": [
    "input_image = torch.rand(3,28,28)\r\n",
    "print(input_image.size())"
   ],
   "outputs": [
    {
     "output_type": "stream",
     "name": "stdout",
     "text": [
      "torch.Size([3, 28, 28])\n"
     ]
    }
   ],
   "metadata": {}
  },
  {
   "cell_type": "markdown",
   "source": [
    "## nn.Flatten\r\n",
    "\r\n",
    "We initialize **the nn.Flatten** layer to convert each 2D 28x28 image to a contiguous array of 784 pixel values(the minibatch dimention (at dim=0) is maintained)"
   ],
   "metadata": {}
  },
  {
   "cell_type": "code",
   "execution_count": 12,
   "source": [
    "flatten = nn.Flatten()\r\n",
    "flat_image = flatten(input_image)\r\n",
    "print(flat_image.size())"
   ],
   "outputs": [
    {
     "output_type": "stream",
     "name": "stdout",
     "text": [
      "torch.Size([3, 784])\n"
     ]
    }
   ],
   "metadata": {}
  },
  {
   "cell_type": "markdown",
   "source": [
    "## nn.Linear\r\n",
    "\r\n",
    "the linear layer is a module that applies a linear transformation on the input using it's stored weights and biases.\r\n"
   ],
   "metadata": {}
  },
  {
   "cell_type": "code",
   "execution_count": 14,
   "source": [
    "\r\n",
    "layer1 = nn.Linear(in_features=28*28, out_features=20)\r\n",
    "hidden1= layer1(flat_image)\r\n",
    "print(hidden1.size())"
   ],
   "outputs": [
    {
     "output_type": "stream",
     "name": "stdout",
     "text": [
      "torch.Size([3, 20])\n"
     ]
    }
   ],
   "metadata": {}
  },
  {
   "cell_type": "markdown",
   "source": [
    "## nn.ReLU \r\n",
    "\r\n",
    "Non-linear activations are what create the complex mappings between the model's inputs and outputs. They are applied after linear transformations to introduce nonlinearity, helping neural networks learn a wide variety of phenomena.\r\n",
    "\r\n",
    "In this model, we use **nn.ReLU** between our linear layers, but there's other activations to introduce non-linearity in your model."
   ],
   "metadata": {}
  },
  {
   "cell_type": "code",
   "execution_count": 15,
   "source": [
    "print(f\"Before ReLU: {hidden1}\\n\\n\")\r\n",
    "hidden1 = nn.ReLU()(hidden1)\r\n",
    "print(f\"After ReLU: {hidden1}\")"
   ],
   "outputs": [
    {
     "output_type": "stream",
     "name": "stdout",
     "text": [
      "Before ReLU: tensor([[-0.0179, -0.7705,  0.4236,  0.3678,  0.4369, -0.4024,  0.0778,  0.0455,\n",
      "          0.1851, -0.1403,  0.4083, -0.6224,  0.0230,  0.3691, -0.0803,  0.4087,\n",
      "          0.2182,  0.0994, -0.1126, -0.0170],\n",
      "        [-0.3562, -0.5996,  0.2206,  0.2441,  0.5474, -0.2011, -0.3475,  0.3834,\n",
      "          0.4442,  0.0854,  0.2600, -0.1356, -0.5149,  0.2147, -0.0661,  0.4066,\n",
      "         -0.0545,  0.3415, -0.2220,  0.0901],\n",
      "        [ 0.0677, -0.6044, -0.0613,  0.4792,  0.4671, -0.3671,  0.0632,  0.4846,\n",
      "          0.2018, -0.0363,  0.4114, -0.0841, -0.5468,  0.3684,  0.0298,  0.6248,\n",
      "          0.2271,  0.4734, -0.4564,  0.3079]], grad_fn=<AddmmBackward>)\n",
      "\n",
      "\n",
      "After ReLU: tensor([[0.0000, 0.0000, 0.4236, 0.3678, 0.4369, 0.0000, 0.0778, 0.0455, 0.1851,\n",
      "         0.0000, 0.4083, 0.0000, 0.0230, 0.3691, 0.0000, 0.4087, 0.2182, 0.0994,\n",
      "         0.0000, 0.0000],\n",
      "        [0.0000, 0.0000, 0.2206, 0.2441, 0.5474, 0.0000, 0.0000, 0.3834, 0.4442,\n",
      "         0.0854, 0.2600, 0.0000, 0.0000, 0.2147, 0.0000, 0.4066, 0.0000, 0.3415,\n",
      "         0.0000, 0.0901],\n",
      "        [0.0677, 0.0000, 0.0000, 0.4792, 0.4671, 0.0000, 0.0632, 0.4846, 0.2018,\n",
      "         0.0000, 0.4114, 0.0000, 0.0000, 0.3684, 0.0298, 0.6248, 0.2271, 0.4734,\n",
      "         0.0000, 0.3079]], grad_fn=<ReluBackward0>)\n"
     ]
    }
   ],
   "metadata": {}
  },
  {
   "cell_type": "markdown",
   "source": [
    "## nn.Sequential\r\n",
    "\r\n",
    "**nn.Sequential** is an ordered container of modules. the data is passed through all the modules in the same order as defined. You can use sequential containers to put together a quick network like seq_modules. \r\n"
   ],
   "metadata": {}
  },
  {
   "cell_type": "code",
   "execution_count": 16,
   "source": [
    "seq_modules = nn.Sequential(flatten, layer1, nn.ReLU(), nn.Linear(20,10))\r\n",
    "\r\n",
    "input_image = torch.rand(3,28,28)\r\n",
    "logits = seq_modules(input_image)"
   ],
   "outputs": [],
   "metadata": {}
  },
  {
   "cell_type": "markdown",
   "source": [
    "## nn.Softmax\r\n",
    "\r\n",
    "The last linear layer of the neural network returns logits - raw values in [-infty, infty] - which are passed to the nn.Softmax module. The logits are scaled to values [0,1] representing the model's predicted densities for each class. dim paremeter indicates the dimension along which the values must sum to 1."
   ],
   "metadata": {}
  },
  {
   "cell_type": "code",
   "execution_count": 17,
   "source": [
    "softmax = nn.Softmax(dim=1)\r\n",
    "pred_probab = softmax(logits)"
   ],
   "outputs": [],
   "metadata": {}
  },
  {
   "cell_type": "markdown",
   "source": [
    "## Model parameters\r\n",
    "\r\n",
    "Many layers inside a neural network are parameterized, i.e. have associated weights and biases that are optimized during training. Subclassing **nn.Module** automatically tracks all fields defined inside your model object, and make all parameters accessible using your model's **parameters()** or **named_parameters()** method"
   ],
   "metadata": {}
  },
  {
   "cell_type": "code",
   "execution_count": 18,
   "source": [
    "print(\"Model structure\", model, \"\\n\\n\")\r\n",
    "\r\n",
    "for name, param in model.named_parameters():\r\n",
    "    print(f'Layer: {name} | Size: {param.size()} | Values: {param[:2]} \\n')"
   ],
   "outputs": [
    {
     "output_type": "stream",
     "name": "stdout",
     "text": [
      "Model structure NeuralNetwork(\n",
      "  (flatten): Flatten(start_dim=1, end_dim=-1)\n",
      "  (linear_relu_stack): Sequential(\n",
      "    (0): Linear(in_features=784, out_features=512, bias=True)\n",
      "    (1): ReLU()\n",
      "    (2): Linear(in_features=512, out_features=512, bias=True)\n",
      "    (3): ReLU()\n",
      "    (4): Linear(in_features=512, out_features=10, bias=True)\n",
      "    (5): ReLU()\n",
      "  )\n",
      ") \n",
      "\n",
      "\n",
      "Layer: linear_relu_stack.0.weight | Size: torch.Size([512, 784]) | Values: tensor([[ 0.0126,  0.0032,  0.0267,  ...,  0.0209,  0.0174, -0.0245],\n",
      "        [-0.0212,  0.0085,  0.0275,  ...,  0.0100, -0.0052,  0.0090]],\n",
      "       device='cuda:0', grad_fn=<SliceBackward>) \n",
      "\n",
      "Layer: linear_relu_stack.0.bias | Size: torch.Size([512]) | Values: tensor([-0.0272, -0.0032], device='cuda:0', grad_fn=<SliceBackward>) \n",
      "\n",
      "Layer: linear_relu_stack.2.weight | Size: torch.Size([512, 512]) | Values: tensor([[ 0.0090, -0.0256, -0.0145,  ..., -0.0167, -0.0407, -0.0223],\n",
      "        [ 0.0076, -0.0360, -0.0038,  ..., -0.0314, -0.0145, -0.0439]],\n",
      "       device='cuda:0', grad_fn=<SliceBackward>) \n",
      "\n",
      "Layer: linear_relu_stack.2.bias | Size: torch.Size([512]) | Values: tensor([0.0019, 0.0166], device='cuda:0', grad_fn=<SliceBackward>) \n",
      "\n",
      "Layer: linear_relu_stack.4.weight | Size: torch.Size([10, 512]) | Values: tensor([[-0.0415,  0.0113, -0.0396,  ...,  0.0421, -0.0166,  0.0200],\n",
      "        [-0.0235,  0.0220,  0.0347,  ..., -0.0367, -0.0407, -0.0197]],\n",
      "       device='cuda:0', grad_fn=<SliceBackward>) \n",
      "\n",
      "Layer: linear_relu_stack.4.bias | Size: torch.Size([10]) | Values: tensor([ 0.0278, -0.0089], device='cuda:0', grad_fn=<SliceBackward>) \n",
      "\n"
     ]
    }
   ],
   "metadata": {}
  }
 ],
 "metadata": {
  "orig_nbformat": 4,
  "language_info": {
   "name": "python",
   "version": "3.8.10",
   "mimetype": "text/x-python",
   "codemirror_mode": {
    "name": "ipython",
    "version": 3
   },
   "pygments_lexer": "ipython3",
   "nbconvert_exporter": "python",
   "file_extension": ".py"
  },
  "kernelspec": {
   "name": "python3",
   "display_name": "Python 3.8.10 64-bit"
  },
  "interpreter": {
   "hash": "b8476f40adbb31d316263111a5645b453d35d3e96db58041b0655f021c3b1406"
  }
 },
 "nbformat": 4,
 "nbformat_minor": 2
}