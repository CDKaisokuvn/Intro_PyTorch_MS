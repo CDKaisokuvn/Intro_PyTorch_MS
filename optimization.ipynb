{
 "cells": [
  {
   "cell_type": "markdown",
   "source": [
    "# Optimization the model parameters\r\n",
    "\r\n",
    "Now that we have a model and data it's time to train, validate and test our model by optimizing its parameters on our data. Training a model is an iterative process, in each iteraction (called an epoch) the model makes a guess about the ouput, calculates the error in its guess (loss), collects the derivatives of the error with respect to its parameters (as we saw in the module), and opimizes these parameters using gradient descent. For a more detailed walkthrough of his process, check out this video on [backpropagation from 3Blue1Brown](https://www.youtube.com/watch?v=tIeHLnjs5U8)."
   ],
   "metadata": {}
  },
  {
   "cell_type": "code",
   "execution_count": 1,
   "source": [
    "import torch \r\n",
    "from torchvision import datasets\r\n",
    "from torchvision.transforms import ToTensor, Lambda\r\n",
    "from torch import nn \r\n",
    "from torch.utils.data import DataLoader\r\n"
   ],
   "outputs": [],
   "metadata": {}
  },
  {
   "cell_type": "code",
   "execution_count": 2,
   "source": [
    "training_data = datasets.FashionMNIST(\r\n",
    "    root=\"data\",\r\n",
    "    train=True,\r\n",
    "    download=True,\r\n",
    "    transform=ToTensor()\r\n",
    ")\r\n",
    "\r\n",
    "test_data = datasets.FashionMNIST(\r\n",
    "    root=\"data\",\r\n",
    "    train=False,\r\n",
    "    transform=ToTensor(),\r\n",
    "    download=True\r\n",
    ")"
   ],
   "outputs": [
    {
     "output_type": "stream",
     "name": "stderr",
     "text": [
      "C:\\Users\\duong\\AppData\\Local\\Programs\\Python\\Python38\\lib\\site-packages\\torchvision\\datasets\\mnist.py:498: UserWarning: The given NumPy array is not writeable, and PyTorch does not support non-writeable tensors. This means you can write to the underlying (supposedly non-writeable) NumPy array using the tensor. You may want to copy the array to protect its data or make it writeable before converting it to a tensor. This type of warning will be suppressed for the rest of this program. (Triggered internally at  ..\\torch\\csrc\\utils\\tensor_numpy.cpp:180.)\n",
      "  return torch.from_numpy(parsed.astype(m[2], copy=False)).view(*s)\n"
     ]
    }
   ],
   "metadata": {}
  },
  {
   "cell_type": "code",
   "execution_count": 3,
   "source": [
    "train_data_loader = DataLoader(training_data, batch_size=64)\r\n",
    "test_data_loader = DataLoader(test_data, batch_size=64)"
   ],
   "outputs": [],
   "metadata": {}
  },
  {
   "cell_type": "markdown",
   "source": [],
   "metadata": {}
  },
  {
   "cell_type": "code",
   "execution_count": 5,
   "source": [
    "class NeuralNetwork(nn.Module):\r\n",
    "    def __init__(self):\r\n",
    "        super(NeuralNetwork, self).__init__()\r\n",
    "        self.flatten = nn.Flatten()\r\n",
    "        self.linear_relu_stack = nn.Sequential(\r\n",
    "            nn.Linear(28*28, 512),\r\n",
    "            nn.ReLU(),\r\n",
    "            nn.Linear(512, 512),\r\n",
    "            nn.ReLU(),\r\n",
    "            nn.Linear(512, 10),\r\n",
    "            nn.ReLU()\r\n",
    "        )\r\n",
    "    def forward(self, x):\r\n",
    "        x = self.flatten(x)\r\n",
    "        logits = self.linear_relu_stack(x)\r\n",
    "        return logits"
   ],
   "outputs": [],
   "metadata": {}
  },
  {
   "cell_type": "code",
   "execution_count": 6,
   "source": [
    "model = NeuralNetwork()"
   ],
   "outputs": [],
   "metadata": {}
  },
  {
   "cell_type": "markdown",
   "source": [
    "## Setting hyperparameters\r\n",
    "\r\n",
    "Hyperparameters are adjustable parameters that let you control the model optimization process. Different hyperparameter values can impact model training and convergence rate.\r\n",
    "\r\n",
    "We define the following hyperparameters for training:\r\n",
    "* **Number of Epochs** - the number of times to iterate over the dataset. \r\n",
    "* **Batch Size** - the number of data samples seen by the model in each epoch. \r\n",
    "* **Learning Rate** - How much to update models parameters at each epoch. Smaller values yield show learning speed, while large values may result in unpreditable behavior during training. "
   ],
   "metadata": {}
  },
  {
   "cell_type": "code",
   "execution_count": 7,
   "source": [
    "learning_rate = 1e-3\r\n",
    "batch_size = 64 \r\n",
    "epochs = 5"
   ],
   "outputs": [],
   "metadata": {}
  },
  {
   "cell_type": "markdown",
   "source": [
    "## Add an optimization loop\r\n",
    "\r\n",
    "Once we set our hyperparameters, we can then train and optimize our model with an optimization loop. Each iteraction of the optimization loop is called an **epoch**.\r\n",
    "\r\n",
    "Each epoch consists of two main parts:\r\n",
    "* **The Train Loop** - iterate over the training dataset and try to convergence to optimal parameters. \r\n",
    "* **The Validation/Test Loop** - iterate over the test dataset to check if model performance is improving. \r\n",
    "\r\n",
    "Let's briefly familiarize ourselves with some of the concepts used in the training loop. Jump ahead to see the **full-impl-label** of the optimization loop"
   ],
   "metadata": {}
  },
  {
   "cell_type": "markdown",
   "source": [
    "## Add a loss functino\r\n",
    "\r\n",
    "When presented with some training data, our untrained network is likely not to given the correct answer. **Lost function** measures the degree of dissimilarity of obtained result to the target value, and it is the loss function that we want to minimize during training. To caculate the loss we make a prediction using the inputs of our given data sample and compare it against the true data label value.\r\n",
    "\r\n",
    "Common loss functions include **nn.MSELoss** for regression tasks, and **nn.NLLLoss** (Negative Log Likelihood) for classification. **nn.CrossEntropyLoss** combines **nn.LogSoftmax** and nn.**NLLLoss**.\r\n",
    "\r\n",
    "We pass our model's output logits to nn.CrossEntropyLoss, which will normalize the logits and compute the prediction error."
   ],
   "metadata": {}
  },
  {
   "cell_type": "code",
   "execution_count": 8,
   "source": [
    "loss_fn = nn.CrossEntropyLoss()"
   ],
   "outputs": [],
   "metadata": {}
  },
  {
   "cell_type": "markdown",
   "source": [
    "## Optimization pass\r\n",
    "\r\n",
    "Optimization is the process of adjusting model parameters  to reduce model error in each training step. **Optimization algorithm** define how this process is performed.\r\n"
   ],
   "metadata": {}
  },
  {
   "cell_type": "code",
   "execution_count": 10,
   "source": [
    "optimizer = torch.optim.SGD(model.parameters(), lr=learning_rate)\r\n"
   ],
   "outputs": [],
   "metadata": {}
  },
  {
   "cell_type": "markdown",
   "source": [
    "Inside the training loop, optimization happens in three steps:\r\n",
    "* Call **optimizer.zero_grad()** to reset the gradient of model parameters. Gradients by default add up; to prevent double-counting, we explicitly zero them at each iteraction.\r\n",
    "* Back-propagate the prediction loss with a call to loss.backwards(). PyTorch deposits the gradients of the loss w.r.t each parameter.\r\n",
    "* Once we have our gradients, we call **optimizer.step()** to adjust the parameters by the gradients collected in the backward pass.\r\n",
    "\r\n"
   ],
   "metadata": {}
  },
  {
   "cell_type": "code",
   "execution_count": 11,
   "source": [
    "def train_loop(dataloader, model, loss_fn, optimizer):\r\n",
    "    size = len(dataloader.dataset)\r\n",
    "    for batch, (X,y) in enumerate(dataloader):\r\n",
    "        #Compute prediction and loss\r\n",
    "        pred = model(X)\r\n",
    "        loss = loss_fn(pred, y)\r\n",
    "\r\n",
    "        # Backpropagation\r\n",
    "        optimizer.zero_grad()\r\n",
    "        loss.backward()\r\n",
    "        optimizer.step()\r\n",
    "\r\n",
    "        if batch % 100 == 0:\r\n",
    "            loss, current = loss.item(), batch* len(X)\r\n",
    "            print(f'loss: {loss:>7f}  [{current:>5f}/{size:>5f}]')\r\n",
    "\r\n",
    "def test_loop(dataloader, model, loss_fn):\r\n",
    "    size = len(dataloader.dataset)\r\n",
    "    test_loss, correct = 0, 0\r\n",
    "\r\n",
    "    with torch.no_grad():\r\n",
    "        for X, y, in dataloader:\r\n",
    "            pred = model(X)\r\n",
    "            test_loss += loss_fn(pred, y).item()\r\n",
    "            correct += (pred.argmax(1) == y).type(torch.float).sum().item()\r\n",
    "    test_loss /= size\r\n",
    "    correct /= size\r\n",
    "\r\n",
    "    print(f'Test error: \\n Accuracy: {(100*correct):>0.1f}%, Avg loss: {test_loss:>8f} \\n')"
   ],
   "outputs": [],
   "metadata": {}
  },
  {
   "cell_type": "code",
   "execution_count": 13,
   "source": [
    "loss_fn = nn.CrossEntropyLoss()\r\n",
    "optimizer = torch.optim.SGD(model.parameters(), lr=learning_rate)\r\n",
    "\r\n",
    "epochs = 10\r\n",
    "for t in range(epochs):\r\n",
    "    print(f\"Epoch {t+1}\\n-------------------------------\")\r\n",
    "    train_loop(train_data_loader, model, loss_fn, optimizer)\r\n",
    "    test_loop(test_data_loader, model, loss_fn)\r\n",
    "print(\"Done!\")"
   ],
   "outputs": [
    {
     "output_type": "stream",
     "name": "stdout",
     "text": [
      "Epoch 1\n",
      "-------------------------------\n",
      "loss: 2.304427  [0.000000/60000.000000]\n",
      "loss: 2.300269  [6400.000000/60000.000000]\n",
      "loss: 2.283340  [12800.000000/60000.000000]\n",
      "loss: 2.285034  [19200.000000/60000.000000]\n",
      "loss: 2.269241  [25600.000000/60000.000000]\n",
      "loss: 2.253967  [32000.000000/60000.000000]\n",
      "loss: 2.250596  [38400.000000/60000.000000]\n",
      "loss: 2.220184  [44800.000000/60000.000000]\n",
      "loss: 2.231462  [51200.000000/60000.000000]\n",
      "loss: 2.240261  [57600.000000/60000.000000]\n"
     ]
    },
    {
     "output_type": "error",
     "ename": "TypeError",
     "evalue": "test_loop() missing 1 required positional argument: 'optimizer'",
     "traceback": [
      "\u001b[1;31m---------------------------------------------------------------------------\u001b[0m",
      "\u001b[1;31mTypeError\u001b[0m                                 Traceback (most recent call last)",
      "\u001b[1;32m<ipython-input-13-51a08b458a16>\u001b[0m in \u001b[0;36m<module>\u001b[1;34m\u001b[0m\n\u001b[0;32m      6\u001b[0m     \u001b[0mprint\u001b[0m\u001b[1;33m(\u001b[0m\u001b[1;34mf\"Epoch {t+1}\\n-------------------------------\"\u001b[0m\u001b[1;33m)\u001b[0m\u001b[1;33m\u001b[0m\u001b[1;33m\u001b[0m\u001b[0m\n\u001b[0;32m      7\u001b[0m     \u001b[0mtrain_loop\u001b[0m\u001b[1;33m(\u001b[0m\u001b[0mtrain_data_loader\u001b[0m\u001b[1;33m,\u001b[0m \u001b[0mmodel\u001b[0m\u001b[1;33m,\u001b[0m \u001b[0mloss_fn\u001b[0m\u001b[1;33m,\u001b[0m \u001b[0moptimizer\u001b[0m\u001b[1;33m)\u001b[0m\u001b[1;33m\u001b[0m\u001b[1;33m\u001b[0m\u001b[0m\n\u001b[1;32m----> 8\u001b[1;33m     \u001b[0mtest_loop\u001b[0m\u001b[1;33m(\u001b[0m\u001b[0mtest_data_loader\u001b[0m\u001b[1;33m,\u001b[0m \u001b[0mmodel\u001b[0m\u001b[1;33m,\u001b[0m \u001b[0mloss_fn\u001b[0m\u001b[1;33m)\u001b[0m\u001b[1;33m\u001b[0m\u001b[1;33m\u001b[0m\u001b[0m\n\u001b[0m\u001b[0;32m      9\u001b[0m \u001b[0mprint\u001b[0m\u001b[1;33m(\u001b[0m\u001b[1;34m\"Done!\"\u001b[0m\u001b[1;33m)\u001b[0m\u001b[1;33m\u001b[0m\u001b[1;33m\u001b[0m\u001b[0m\n",
      "\u001b[1;31mTypeError\u001b[0m: test_loop() missing 1 required positional argument: 'optimizer'"
     ]
    }
   ],
   "metadata": {}
  },
  {
   "cell_type": "code",
   "execution_count": null,
   "source": [],
   "outputs": [],
   "metadata": {}
  }
 ],
 "metadata": {
  "orig_nbformat": 4,
  "language_info": {
   "name": "python",
   "version": "3.8.10",
   "mimetype": "text/x-python",
   "codemirror_mode": {
    "name": "ipython",
    "version": 3
   },
   "pygments_lexer": "ipython3",
   "nbconvert_exporter": "python",
   "file_extension": ".py"
  },
  "kernelspec": {
   "name": "python3",
   "display_name": "Python 3.8.10 64-bit"
  },
  "interpreter": {
   "hash": "b8476f40adbb31d316263111a5645b453d35d3e96db58041b0655f021c3b1406"
  }
 },
 "nbformat": 4,
 "nbformat_minor": 2
}