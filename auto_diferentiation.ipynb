{
 "cells": [
  {
   "cell_type": "markdown",
   "source": [
    "# Automatic differentiation with **torch.autogard**"
   ],
   "metadata": {}
  },
  {
   "cell_type": "markdown",
   "source": [
    "When training neural networks, the most frequently used algorithm is back propagation. In this algorithm, parameters are adjusted according to the gradient of the loss function with respect to the given parameter. \r\n",
    "\r\n",
    "To compute those gradients, PyTorch has a built-in differentiation engine called **torch.autograd**. It supports automatic computation of gradient for any computational graph.\r\n",
    "\r\n",
    "Consider the simplest one-layer neural network, with input x, parameter w and b, and some loss function. It can be defined in PyTorch in the following manner:"
   ],
   "metadata": {}
  },
  {
   "cell_type": "code",
   "execution_count": 1,
   "source": [
    "import torch\r\n",
    "\r\n",
    "x = torch.ones(5)\r\n",
    "\r\n",
    "y = torch.zeros(3)\r\n",
    "\r\n",
    "w = torch.rand(5,3, requires_grad=True)\r\n",
    "\r\n",
    "b= torch.rand(3, requires_grad=True)\r\n",
    "\r\n",
    "z = torch.matmul(x,w)+b \r\n",
    "\r\n",
    "loss = torch.nn.functional.binary_cross_entropy_with_logits(z,y)"
   ],
   "outputs": [],
   "metadata": {}
  },
  {
   "cell_type": "markdown",
   "source": [
    "## Tensors, Functions and Computational graph\r\n"
   ],
   "metadata": {}
  },
  {
   "cell_type": "markdown",
   "source": [
    "This code defines the following **computational graph**:\r\n",
    "\r\n",
    "![Diagram showing a computational graph with two parameters 'w' and 'b' to compute the gradients of loss.](https://docs.microsoft.com/en-us/learn/modules/intro-machine-learning-pytorch/images/computational-graph.png)\r\n",
    "\r\n",
    "In this network, `w` and `b` are **parameters**, which we need to\r\n",
    "optimize. Thus, we need to be able to compute the gradients of loss\r\n",
    "function with respect to those variables. In order to do that, we set\r\n",
    "the `requires_grad` property of those tensors.\r\n",
    "\r\n",
    "> **Note:** You can set the value of `requires_grad` when creating a tensor, or later by using `x.requires_grad_(True)` method.\r\n",
    "\r\n",
    "A function that we apply to tensors to construct computational graph is\r\n",
    "in fact an object of class `Function`. This object knows how to\r\n",
    "compute the function in the *forward* direction, and also how to compute\r\n",
    "its derivative during the *backward propagation* step. A reference to\r\n",
    "the backward propagation function is stored in `grad_fn` property of a\r\n",
    "tensor. You can find more information of `Function` [in the\r\n",
    "documentation](https://pytorch.org/docs/stable/autograd.html#function)."
   ],
   "metadata": {}
  },
  {
   "cell_type": "code",
   "execution_count": 2,
   "source": [
    "print('Gradient function for z =',z.grad_fn)\r\n",
    "print('Gradient function for loss =', loss.grad_fn)"
   ],
   "outputs": [
    {
     "output_type": "stream",
     "name": "stdout",
     "text": [
      "Gradient function for z = <AddBackward0 object at 0x00000249BEE98B50>\n",
      "Gradient function for loss = <BinaryCrossEntropyWithLogitsBackward object at 0x00000249BEE98430>\n"
     ]
    }
   ],
   "metadata": {}
  },
  {
   "cell_type": "markdown",
   "source": [
    "## Computing gradients\r\n",
    "\r\n",
    "To optimize weights of parameters in the neural network, we need to\r\n",
    "compute the derivatives of our loss function with respect to parameters,\r\n",
    "namely, we need $\\frac{\\partial loss}{\\partial w}$ and\r\n",
    "$\\frac{\\partial loss}{\\partial b}$ under some fixed values of\r\n",
    "`x` and `y`. To compute those derivatives, we call\r\n",
    "`loss.backward()`, and then retrieve the values from `w.grad` and\r\n",
    "`b.grad`:"
   ],
   "metadata": {}
  },
  {
   "cell_type": "code",
   "execution_count": 3,
   "source": [
    "loss.backward() \r\n",
    "print(w.grad)\r\n",
    "print(b.grad)"
   ],
   "outputs": [
    {
     "output_type": "stream",
     "name": "stdout",
     "text": [
      "tensor([[0.3248, 0.3097, 0.3205],\n",
      "        [0.3248, 0.3097, 0.3205],\n",
      "        [0.3248, 0.3097, 0.3205],\n",
      "        [0.3248, 0.3097, 0.3205],\n",
      "        [0.3248, 0.3097, 0.3205]])\n",
      "tensor([0.3248, 0.3097, 0.3205])\n"
     ]
    }
   ],
   "metadata": {}
  },
  {
   "cell_type": "markdown",
   "source": [
    "> **Note:** We can only obtain the `grad` properties for the leaf nodes of the computational graph, which have `requires_grad` property set to ``True``. For all other nodes in our graph, gradients will not be available. In addition, we can only perform gradient calculations using ``backward`` once on a given graph, for performance reasons. If we need to do several ``backward`` calls on the same graph, we need to pass ``retain_graph=True`` to the ``backward`` call.\r\n",
    "\r\n",
    "## Disabling gradient tracking\r\n",
    "\r\n",
    "By default, all tensors with `requires_grad=True` are tracking their\r\n",
    "computational history and support gradient computation. However, there\r\n",
    "are some cases when we do not need to do that, for example, when we have\r\n",
    "trained the model and just want to apply it to some input data, i.e. we\r\n",
    "only want to do *forward* computations through the network. We can stop\r\n",
    "tracking computations by surrounding our computation code with\r\n",
    "`torch.no_grad()` block:"
   ],
   "metadata": {}
  },
  {
   "cell_type": "code",
   "execution_count": 4,
   "source": [
    "z = torch.matmul(x, w)+b\r\n",
    "print(z.requires_grad)\r\n",
    "\r\n",
    "with torch.no_grad():\r\n",
    "    z = torch.matmul(x, w)+b\r\n",
    "print(z.requires_grad)"
   ],
   "outputs": [
    {
     "output_type": "stream",
     "name": "stdout",
     "text": [
      "True\n",
      "False\n"
     ]
    }
   ],
   "metadata": {}
  },
  {
   "cell_type": "code",
   "execution_count": 5,
   "source": [
    "# <!-- another way to achieve the same result is to use the **detach()** method on the tensor -->\r\n",
    "z = torch.matmul(x, w)+b\r\n",
    "z_det = z.detach()\r\n",
    "print(z_det.requires_grad)"
   ],
   "outputs": [
    {
     "output_type": "stream",
     "name": "stdout",
     "text": [
      "False\n"
     ]
    }
   ],
   "metadata": {}
  },
  {
   "cell_type": "markdown",
   "source": [
    "There are reasons you might want to disable gradient tracking:\r\n",
    "  - To mark some parameters in your neural network at **frozen parameters**. This is\r\n",
    "    a very common scenario for\r\n",
    "    [fine tuning a pre-trained network](https://pytorch.org/tutorials/beginner/finetuning_torchvision_models_tutorial.html)\r\n",
    "  - To **speed up computations** when you are only doing forward pass, because computations on tensors that do\r\n",
    "    not track gradients would be more efficient."
   ],
   "metadata": {}
  },
  {
   "cell_type": "markdown",
   "source": [],
   "metadata": {}
  }
 ],
 "metadata": {
  "orig_nbformat": 4,
  "language_info": {
   "name": "python",
   "version": "3.8.10",
   "mimetype": "text/x-python",
   "codemirror_mode": {
    "name": "ipython",
    "version": 3
   },
   "pygments_lexer": "ipython3",
   "nbconvert_exporter": "python",
   "file_extension": ".py"
  },
  "kernelspec": {
   "name": "python3",
   "display_name": "Python 3.8.10 64-bit"
  },
  "interpreter": {
   "hash": "b8476f40adbb31d316263111a5645b453d35d3e96db58041b0655f021c3b1406"
  }
 },
 "nbformat": 4,
 "nbformat_minor": 2
}